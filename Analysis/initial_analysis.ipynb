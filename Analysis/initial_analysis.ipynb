{
 "cells": [
  {
   "cell_type": "code",
   "execution_count": 9,
   "metadata": {},
   "outputs": [],
   "source": [
    "import pandas as pd\n",
    "import matplotlib.pyplot as plt\n",
    "import seaborn as sns\n",
    "import numpy as np\n",
    "import os\n",
    "import glob\n"
   ]
  },
  {
   "cell_type": "code",
   "execution_count": 10,
   "metadata": {},
   "outputs": [],
   "source": [
    "def list_of_files(path='', extension='csv'):\n",
    "    path = path\n",
    "    extension = extension\n",
    "    os.chdir(path)\n",
    "    results = glob.glob('*.{}'.format(extension))\n",
    "    return results\n",
    "\n",
    "all_files = list_of_files(r'C:\\Users\\jlebowi\\Desktop\\24toCode\\mequan', 'csv')"
   ]
  },
  {
   "cell_type": "code",
   "execution_count": 11,
   "metadata": {},
   "outputs": [],
   "source": [
    "all_data = {}\n",
    "for count, file in enumerate(all_files):\n",
    "    all_data[file] = pd.read_csv(file)\n",
    "    all_data[file].set_index('Date/Time', inplace=True)"
   ]
  },
  {
   "cell_type": "code",
   "execution_count": 12,
   "metadata": {},
   "outputs": [
    {
     "data": {
      "text/html": [
       "<div>\n",
       "<style scoped>\n",
       "    .dataframe tbody tr th:only-of-type {\n",
       "        vertical-align: middle;\n",
       "    }\n",
       "\n",
       "    .dataframe tbody tr th {\n",
       "        vertical-align: top;\n",
       "    }\n",
       "\n",
       "    .dataframe thead th {\n",
       "        text-align: right;\n",
       "    }\n",
       "</style>\n",
       "<table border=\"1\" class=\"dataframe\">\n",
       "  <thead>\n",
       "    <tr style=\"text-align: right;\">\n",
       "      <th></th>\n",
       "      <th>Date/Time</th>\n",
       "      <th>Real Power Demand</th>\n",
       "      <th>Real Energy Net</th>\n",
       "      <th>Reactive Energy Net</th>\n",
       "      <th>Average Current</th>\n",
       "    </tr>\n",
       "  </thead>\n",
       "  <tbody>\n",
       "    <tr>\n",
       "      <th>0</th>\n",
       "      <td>1/1/2015 0:00</td>\n",
       "      <td>99.245476</td>\n",
       "      <td>19768970.00</td>\n",
       "      <td>26427170.00</td>\n",
       "      <td>195.351807</td>\n",
       "    </tr>\n",
       "    <tr>\n",
       "      <th>1</th>\n",
       "      <td>1/1/2015 0:15</td>\n",
       "      <td>105.387604</td>\n",
       "      <td>19768996.00</td>\n",
       "      <td>26427202.00</td>\n",
       "      <td>195.626450</td>\n",
       "    </tr>\n",
       "    <tr>\n",
       "      <th>2</th>\n",
       "      <td>1/1/2015 0:30</td>\n",
       "      <td>110.644981</td>\n",
       "      <td>19769024.00</td>\n",
       "      <td>26427236.00</td>\n",
       "      <td>197.640488</td>\n",
       "    </tr>\n",
       "    <tr>\n",
       "      <th>3</th>\n",
       "      <td>1/1/2015 0:45</td>\n",
       "      <td>105.523443</td>\n",
       "      <td>19769151.38</td>\n",
       "      <td>26427390.51</td>\n",
       "      <td>191.049118</td>\n",
       "    </tr>\n",
       "    <tr>\n",
       "      <th>4</th>\n",
       "      <td>1/1/2015 1:00</td>\n",
       "      <td>105.136955</td>\n",
       "      <td>19769076.00</td>\n",
       "      <td>26427298.00</td>\n",
       "      <td>198.098267</td>\n",
       "    </tr>\n",
       "  </tbody>\n",
       "</table>\n",
       "</div>"
      ],
      "text/plain": [
       "       Date/Time  Real Power Demand  Real Energy Net  Reactive Energy Net  \\\n",
       "0  1/1/2015 0:00          99.245476      19768970.00          26427170.00   \n",
       "1  1/1/2015 0:15         105.387604      19768996.00          26427202.00   \n",
       "2  1/1/2015 0:30         110.644981      19769024.00          26427236.00   \n",
       "3  1/1/2015 0:45         105.523443      19769151.38          26427390.51   \n",
       "4  1/1/2015 1:00         105.136955      19769076.00          26427298.00   \n",
       "\n",
       "   Average Current  \n",
       "0       195.351807  \n",
       "1       195.626450  \n",
       "2       197.640488  \n",
       "3       191.049118  \n",
       "4       198.098267  "
      ]
     },
     "execution_count": 12,
     "metadata": {},
     "output_type": "execute_result"
    }
   ],
   "source": [
    "all_data['Mequon 01 (West MFG).csv'].head()"
   ]
  },
  {
   "cell_type": "code",
   "execution_count": 13,
   "metadata": {},
   "outputs": [
    {
     "data": {
      "text/html": [
       "<div>\n",
       "<style scoped>\n",
       "    .dataframe tbody tr th:only-of-type {\n",
       "        vertical-align: middle;\n",
       "    }\n",
       "\n",
       "    .dataframe tbody tr th {\n",
       "        vertical-align: top;\n",
       "    }\n",
       "\n",
       "    .dataframe thead th {\n",
       "        text-align: right;\n",
       "    }\n",
       "</style>\n",
       "<table border=\"1\" class=\"dataframe\">\n",
       "  <thead>\n",
       "    <tr style=\"text-align: right;\">\n",
       "      <th></th>\n",
       "      <th>Date/Time</th>\n",
       "      <th>Real Power Demand</th>\n",
       "      <th>Real Energy Net</th>\n",
       "      <th>Reactive Energy Net</th>\n",
       "      <th>Average Current</th>\n",
       "      <th>Average L-L Voltage</th>\n",
       "    </tr>\n",
       "  </thead>\n",
       "  <tbody>\n",
       "    <tr>\n",
       "      <th>0</th>\n",
       "      <td>1/1/2015 0:00</td>\n",
       "      <td>311.725372</td>\n",
       "      <td>47206672.00</td>\n",
       "      <td>15873742.00</td>\n",
       "      <td>375.924438</td>\n",
       "      <td>484.886169</td>\n",
       "    </tr>\n",
       "    <tr>\n",
       "      <th>1</th>\n",
       "      <td>1/1/2015 0:15</td>\n",
       "      <td>317.339109</td>\n",
       "      <td>47207038.53</td>\n",
       "      <td>15873873.55</td>\n",
       "      <td>348.278198</td>\n",
       "      <td>485.552002</td>\n",
       "    </tr>\n",
       "    <tr>\n",
       "      <th>2</th>\n",
       "      <td>1/1/2015 0:30</td>\n",
       "      <td>308.171722</td>\n",
       "      <td>47206824.00</td>\n",
       "      <td>15873797.00</td>\n",
       "      <td>365.671631</td>\n",
       "      <td>485.689789</td>\n",
       "    </tr>\n",
       "    <tr>\n",
       "      <th>3</th>\n",
       "      <td>1/1/2015 0:45</td>\n",
       "      <td>305.181183</td>\n",
       "      <td>47206900.00</td>\n",
       "      <td>15873824.00</td>\n",
       "      <td>373.269470</td>\n",
       "      <td>485.907898</td>\n",
       "    </tr>\n",
       "    <tr>\n",
       "      <th>4</th>\n",
       "      <td>1/1/2015 1:00</td>\n",
       "      <td>317.339111</td>\n",
       "      <td>47206980.00</td>\n",
       "      <td>15873852.00</td>\n",
       "      <td>393.133850</td>\n",
       "      <td>485.678314</td>\n",
       "    </tr>\n",
       "  </tbody>\n",
       "</table>\n",
       "</div>"
      ],
      "text/plain": [
       "       Date/Time  Real Power Demand  Real Energy Net  Reactive Energy Net  \\\n",
       "0  1/1/2015 0:00         311.725372      47206672.00          15873742.00   \n",
       "1  1/1/2015 0:15         317.339109      47207038.53          15873873.55   \n",
       "2  1/1/2015 0:30         308.171722      47206824.00          15873797.00   \n",
       "3  1/1/2015 0:45         305.181183      47206900.00          15873824.00   \n",
       "4  1/1/2015 1:00         317.339111      47206980.00          15873852.00   \n",
       "\n",
       "   Average Current  Average L-L Voltage  \n",
       "0       375.924438           484.886169  \n",
       "1       348.278198           485.552002  \n",
       "2       365.671631           485.689789  \n",
       "3       373.269470           485.907898  \n",
       "4       393.133850           485.678314  "
      ]
     },
     "execution_count": 13,
     "metadata": {},
     "output_type": "execute_result"
    }
   ],
   "source": [
    "all_data['Mequon 02 (East MFG).csv'].head()"
   ]
  },
  {
   "cell_type": "code",
   "execution_count": 14,
   "metadata": {},
   "outputs": [
    {
     "data": {
      "text/html": [
       "<div>\n",
       "<style scoped>\n",
       "    .dataframe tbody tr th:only-of-type {\n",
       "        vertical-align: middle;\n",
       "    }\n",
       "\n",
       "    .dataframe tbody tr th {\n",
       "        vertical-align: top;\n",
       "    }\n",
       "\n",
       "    .dataframe thead th {\n",
       "        text-align: right;\n",
       "    }\n",
       "</style>\n",
       "<table border=\"1\" class=\"dataframe\">\n",
       "  <thead>\n",
       "    <tr style=\"text-align: right;\">\n",
       "      <th></th>\n",
       "      <th>Date/Time</th>\n",
       "      <th>Total Real Energy</th>\n",
       "      <th>Avg Voltage L-L</th>\n",
       "      <th>Total Reactive Energy</th>\n",
       "      <th>Total Real Power Demand</th>\n",
       "    </tr>\n",
       "  </thead>\n",
       "  <tbody>\n",
       "    <tr>\n",
       "      <th>0</th>\n",
       "      <td>1/1/2015 0:00</td>\n",
       "      <td>326063.7500</td>\n",
       "      <td>NaN</td>\n",
       "      <td>1086621.945</td>\n",
       "      <td>21.285981</td>\n",
       "    </tr>\n",
       "    <tr>\n",
       "      <th>1</th>\n",
       "      <td>1/1/2015 0:15</td>\n",
       "      <td>326069.0938</td>\n",
       "      <td>NaN</td>\n",
       "      <td>1086633.859</td>\n",
       "      <td>21.284019</td>\n",
       "    </tr>\n",
       "    <tr>\n",
       "      <th>2</th>\n",
       "      <td>1/1/2015 0:30</td>\n",
       "      <td>326074.4063</td>\n",
       "      <td>NaN</td>\n",
       "      <td>1086645.828</td>\n",
       "      <td>21.304714</td>\n",
       "    </tr>\n",
       "    <tr>\n",
       "      <th>3</th>\n",
       "      <td>1/1/2015 0:45</td>\n",
       "      <td>326079.7500</td>\n",
       "      <td>NaN</td>\n",
       "      <td>1086657.820</td>\n",
       "      <td>21.335331</td>\n",
       "    </tr>\n",
       "    <tr>\n",
       "      <th>4</th>\n",
       "      <td>1/1/2015 1:00</td>\n",
       "      <td>326085.0938</td>\n",
       "      <td>NaN</td>\n",
       "      <td>1086669.867</td>\n",
       "      <td>21.354470</td>\n",
       "    </tr>\n",
       "  </tbody>\n",
       "</table>\n",
       "</div>"
      ],
      "text/plain": [
       "       Date/Time  Total Real Energy  Avg Voltage L-L  Total Reactive Energy  \\\n",
       "0  1/1/2015 0:00        326063.7500              NaN            1086621.945   \n",
       "1  1/1/2015 0:15        326069.0938              NaN            1086633.859   \n",
       "2  1/1/2015 0:30        326074.4063              NaN            1086645.828   \n",
       "3  1/1/2015 0:45        326079.7500              NaN            1086657.820   \n",
       "4  1/1/2015 1:00        326085.0938              NaN            1086669.867   \n",
       "\n",
       "   Total Real Power Demand  \n",
       "0                21.285981  \n",
       "1                21.284019  \n",
       "2                21.304714  \n",
       "3                21.335331  \n",
       "4                21.354470  "
      ]
     },
     "execution_count": 14,
     "metadata": {},
     "output_type": "execute_result"
    }
   ],
   "source": [
    "all_data['Mequon 05 (South MFG PM500).csv'].head()"
   ]
  },
  {
   "cell_type": "code",
   "execution_count": 499,
   "metadata": {},
   "outputs": [],
   "source": [
    "df3 = pd.concat((all_data['Mequon 01 (West MFG).csv'], all_data['Mequon 02 (East MFG).csv']))\n",
    "df3 = df3.groupby(df3.index).sum()\n",
    "df4 = pd.concat((df3, all_data['Mequon 05 (South MFG PM500).csv']))\n",
    "df4 = df4.groupby(df4.index).sum()"
   ]
  },
  {
   "cell_type": "code",
   "execution_count": 504,
   "metadata": {},
   "outputs": [],
   "source": [
    "df4.to_csv('all_manufacturing_data.csv')"
   ]
  },
  {
   "cell_type": "code",
   "execution_count": 511,
   "metadata": {},
   "outputs": [
    {
     "data": {
      "text/html": [
       "<div>\n",
       "<style scoped>\n",
       "    .dataframe tbody tr th:only-of-type {\n",
       "        vertical-align: middle;\n",
       "    }\n",
       "\n",
       "    .dataframe tbody tr th {\n",
       "        vertical-align: top;\n",
       "    }\n",
       "\n",
       "    .dataframe thead th {\n",
       "        text-align: right;\n",
       "    }\n",
       "</style>\n",
       "<table border=\"1\" class=\"dataframe\">\n",
       "  <thead>\n",
       "    <tr style=\"text-align: right;\">\n",
       "      <th></th>\n",
       "      <th>Reactive Energy Net</th>\n",
       "      <th>Real Energy Net</th>\n",
       "      <th>Real Power Demand</th>\n",
       "    </tr>\n",
       "    <tr>\n",
       "      <th>Date/Time</th>\n",
       "      <th></th>\n",
       "      <th></th>\n",
       "      <th></th>\n",
       "    </tr>\n",
       "  </thead>\n",
       "  <tbody>\n",
       "    <tr>\n",
       "      <th>1/1/2015 0:00</th>\n",
       "      <td>4.338753e+07</td>\n",
       "      <td>6.730171e+07</td>\n",
       "      <td>432.256830</td>\n",
       "    </tr>\n",
       "    <tr>\n",
       "      <th>1/1/2015 0:15</th>\n",
       "      <td>4.338771e+07</td>\n",
       "      <td>6.730210e+07</td>\n",
       "      <td>444.010731</td>\n",
       "    </tr>\n",
       "    <tr>\n",
       "      <th>1/1/2015 0:30</th>\n",
       "      <td>4.338768e+07</td>\n",
       "      <td>6.730192e+07</td>\n",
       "      <td>440.121418</td>\n",
       "    </tr>\n",
       "    <tr>\n",
       "      <th>1/1/2015 0:45</th>\n",
       "      <td>4.338787e+07</td>\n",
       "      <td>6.730213e+07</td>\n",
       "      <td>432.039956</td>\n",
       "    </tr>\n",
       "    <tr>\n",
       "      <th>1/1/2015 10:00</th>\n",
       "      <td>4.339052e+07</td>\n",
       "      <td>6.730779e+07</td>\n",
       "      <td>711.265613</td>\n",
       "    </tr>\n",
       "  </tbody>\n",
       "</table>\n",
       "</div>"
      ],
      "text/plain": [
       "                Reactive Energy Net  Real Energy Net  Real Power Demand\n",
       "Date/Time                                                              \n",
       "1/1/2015 0:00          4.338753e+07     6.730171e+07         432.256830\n",
       "1/1/2015 0:15          4.338771e+07     6.730210e+07         444.010731\n",
       "1/1/2015 0:30          4.338768e+07     6.730192e+07         440.121418\n",
       "1/1/2015 0:45          4.338787e+07     6.730213e+07         432.039956\n",
       "1/1/2015 10:00         4.339052e+07     6.730779e+07         711.265613"
      ]
     },
     "execution_count": 511,
     "metadata": {},
     "output_type": "execute_result"
    }
   ],
   "source": [
    "df4.head()"
   ]
  },
  {
   "cell_type": "code",
   "execution_count": 514,
   "metadata": {},
   "outputs": [],
   "source": [
    "df4.index = pd.to_datetime(df4.index)"
   ]
  },
  {
   "cell_type": "code",
   "execution_count": 518,
   "metadata": {},
   "outputs": [
    {
     "name": "stdout",
     "output_type": "stream",
     "text": [
      "<class 'pandas.core.frame.DataFrame'>\n",
      "Index: 85561 entries, 1/1/2015 0:00 to 4/16/2018 19:00\n",
      "Data columns (total 4 columns):\n",
      "Total Real Energy          85555 non-null float64\n",
      "Avg Voltage L-L            29994 non-null float64\n",
      "Total Reactive Energy      85555 non-null float64\n",
      "Total Real Power Demand    85543 non-null float64\n",
      "dtypes: float64(4)\n",
      "memory usage: 3.3+ MB\n"
     ]
    }
   ],
   "source": [
    "df.info()"
   ]
  },
  {
   "cell_type": "code",
   "execution_count": 521,
   "metadata": {},
   "outputs": [
    {
     "data": {
      "text/plain": [
       "<matplotlib.axes._subplots.AxesSubplot at 0x189229221d0>"
      ]
     },
     "execution_count": 521,
     "metadata": {},
     "output_type": "execute_result"
    },
    {
     "data": {
      "image/png": "[encoded data removed]",
      "text/plain": [
       "<Figure size 432x288 with 1 Axes>"
      ]
     },
     "metadata": {
      "needs_background": "light"
     },
     "output_type": "display_data"
    }
   ],
   "source": [
    "df4['Real Power Demand'].plot()"
   ]
  },
  {
   "cell_type": "code",
   "execution_count": 523,
   "metadata": {},
   "outputs": [],
   "source": [
    "mask = (df4.index > '2016-09-06') & (df4.index <= '2017-03-03')"
   ]
  },
  {
   "cell_type": "code",
   "execution_count": 542,
   "metadata": {},
   "outputs": [],
   "source": [
    "temp = df4[(df4.index > '2015-01-01') & (df4.index <= '2016-08-15')]"
   ]
  },
  {
   "cell_type": "code",
   "execution_count": 543,
   "metadata": {},
   "outputs": [
    {
     "data": {
      "text/plain": [
       "<matplotlib.axes._subplots.AxesSubplot at 0x18975f47630>"
      ]
     },
     "execution_count": 543,
     "metadata": {},
     "output_type": "execute_result"
    },
    {
     "data": {
      "image/png": "[encoded data removed]",
      "text/plain": [
       "<Figure size 432x288 with 1 Axes>"
      ]
     },
     "metadata": {
      "needs_background": "light"
     },
     "output_type": "display_data"
    }
   ],
   "source": [
    "temp['Real Power Demand'].plot()"
   ]
  },
  {
   "cell_type": "code",
   "execution_count": 544,
   "metadata": {},
   "outputs": [
    {
     "data": {
      "text/plain": [
       "<matplotlib.axes._subplots.AxesSubplot at 0x1892d826b00>"
      ]
     },
     "execution_count": 544,
     "metadata": {},
     "output_type": "execute_result"
    },
    {
     "data": {
      "image/png": "[encoded data removed]",
      "text/plain": [
       "<Figure size 432x288 with 1 Axes>"
      ]
     },
     "metadata": {
      "needs_background": "light"
     },
     "output_type": "display_data"
    }
   ],
   "source": [
    "temp['Real Energy Net'].plot()"
   ]
  },
  {
   "cell_type": "code",
   "execution_count": 545,
   "metadata": {},
   "outputs": [
    {
     "data": {
      "text/plain": [
       "<matplotlib.axes._subplots.AxesSubplot at 0x1891e3b5908>"
      ]
     },
     "execution_count": 545,
     "metadata": {},
     "output_type": "execute_result"
    },
    {
     "data": {
      "image/png": "[encoded data removed]",
      "text/plain": [
       "<Figure size 432x288 with 1 Axes>"
      ]
     },
     "metadata": {
      "needs_background": "light"
     },
     "output_type": "display_data"
    }
   ],
   "source": [
    "temp['Reactive Energy Net'].plot()"
   ]
  },
  {
   "cell_type": "code",
   "execution_count": 546,
   "metadata": {},
   "outputs": [
    {
     "data": {
      "text/html": [
       "<div>\n",
       "<style scoped>\n",
       "    .dataframe tbody tr th:only-of-type {\n",
       "        vertical-align: middle;\n",
       "    }\n",
       "\n",
       "    .dataframe tbody tr th {\n",
       "        vertical-align: top;\n",
       "    }\n",
       "\n",
       "    .dataframe thead th {\n",
       "        text-align: right;\n",
       "    }\n",
       "</style>\n",
       "<table border=\"1\" class=\"dataframe\">\n",
       "  <thead>\n",
       "    <tr style=\"text-align: right;\">\n",
       "      <th></th>\n",
       "      <th>Reactive Energy Net</th>\n",
       "      <th>Real Energy Net</th>\n",
       "      <th>Real Power Demand</th>\n",
       "    </tr>\n",
       "    <tr>\n",
       "      <th>Date/Time</th>\n",
       "      <th></th>\n",
       "      <th></th>\n",
       "      <th></th>\n",
       "    </tr>\n",
       "  </thead>\n",
       "  <tbody>\n",
       "    <tr>\n",
       "      <th>2015-01-01 00:15:00</th>\n",
       "      <td>4.338771e+07</td>\n",
       "      <td>6.730210e+07</td>\n",
       "      <td>444.010731</td>\n",
       "    </tr>\n",
       "    <tr>\n",
       "      <th>2015-01-01 00:30:00</th>\n",
       "      <td>4.338768e+07</td>\n",
       "      <td>6.730192e+07</td>\n",
       "      <td>440.121418</td>\n",
       "    </tr>\n",
       "    <tr>\n",
       "      <th>2015-01-01 00:45:00</th>\n",
       "      <td>4.338787e+07</td>\n",
       "      <td>6.730213e+07</td>\n",
       "      <td>432.039956</td>\n",
       "    </tr>\n",
       "    <tr>\n",
       "      <th>2015-01-01 10:00:00</th>\n",
       "      <td>4.339052e+07</td>\n",
       "      <td>6.730779e+07</td>\n",
       "      <td>711.265613</td>\n",
       "    </tr>\n",
       "    <tr>\n",
       "      <th>2015-01-01 10:15:00</th>\n",
       "      <td>4.339086e+07</td>\n",
       "      <td>6.730860e+07</td>\n",
       "      <td>687.768707</td>\n",
       "    </tr>\n",
       "  </tbody>\n",
       "</table>\n",
       "</div>"
      ],
      "text/plain": [
       "                     Reactive Energy Net  Real Energy Net  Real Power Demand\n",
       "Date/Time                                                                   \n",
       "2015-01-01 00:15:00         4.338771e+07     6.730210e+07         444.010731\n",
       "2015-01-01 00:30:00         4.338768e+07     6.730192e+07         440.121418\n",
       "2015-01-01 00:45:00         4.338787e+07     6.730213e+07         432.039956\n",
       "2015-01-01 10:00:00         4.339052e+07     6.730779e+07         711.265613\n",
       "2015-01-01 10:15:00         4.339086e+07     6.730860e+07         687.768707"
      ]
     },
     "execution_count": 546,
     "metadata": {},
     "output_type": "execute_result"
    }
   ],
   "source": [
    "temp.head()"
   ]
  },
  {
   "cell_type": "code",
   "execution_count": 547,
   "metadata": {},
   "outputs": [
    {
     "name": "stdout",
     "output_type": "stream",
     "text": [
      "<class 'pandas.core.frame.DataFrame'>\n",
      "DatetimeIndex: 56541 entries, 2015-01-01 00:15:00 to 2015-09-09 09:45:00\n",
      "Data columns (total 3 columns):\n",
      "Reactive Energy Net    56541 non-null float64\n",
      "Real Energy Net        56541 non-null float64\n",
      "Real Power Demand      56541 non-null float64\n",
      "dtypes: float64(3)\n",
      "memory usage: 1.7 MB\n"
     ]
    }
   ],
   "source": [
    "temp.info()"
   ]
  },
  {
   "cell_type": "code",
   "execution_count": 548,
   "metadata": {},
   "outputs": [
    {
     "data": {
      "text/html": [
       "<div>\n",
       "<style scoped>\n",
       "    .dataframe tbody tr th:only-of-type {\n",
       "        vertical-align: middle;\n",
       "    }\n",
       "\n",
       "    .dataframe tbody tr th {\n",
       "        vertical-align: top;\n",
       "    }\n",
       "\n",
       "    .dataframe thead th {\n",
       "        text-align: right;\n",
       "    }\n",
       "</style>\n",
       "<table border=\"1\" class=\"dataframe\">\n",
       "  <thead>\n",
       "    <tr style=\"text-align: right;\">\n",
       "      <th></th>\n",
       "      <th>Reactive Energy Net</th>\n",
       "      <th>Real Energy Net</th>\n",
       "      <th>Real Power Demand</th>\n",
       "    </tr>\n",
       "    <tr>\n",
       "      <th>Date/Time</th>\n",
       "      <th></th>\n",
       "      <th></th>\n",
       "      <th></th>\n",
       "    </tr>\n",
       "  </thead>\n",
       "  <tbody>\n",
       "    <tr>\n",
       "      <th>2015-09-09 08:45:00</th>\n",
       "      <td>4.660379e+07</td>\n",
       "      <td>7.184195e+07</td>\n",
       "      <td>1068.943649</td>\n",
       "    </tr>\n",
       "    <tr>\n",
       "      <th>2015-09-09 09:00:00</th>\n",
       "      <td>4.660398e+07</td>\n",
       "      <td>7.184221e+07</td>\n",
       "      <td>1080.959360</td>\n",
       "    </tr>\n",
       "    <tr>\n",
       "      <th>2015-09-09 09:15:00</th>\n",
       "      <td>4.660413e+07</td>\n",
       "      <td>7.184247e+07</td>\n",
       "      <td>1012.228044</td>\n",
       "    </tr>\n",
       "    <tr>\n",
       "      <th>2015-09-09 09:30:00</th>\n",
       "      <td>4.660436e+07</td>\n",
       "      <td>7.184274e+07</td>\n",
       "      <td>1068.004918</td>\n",
       "    </tr>\n",
       "    <tr>\n",
       "      <th>2015-09-09 09:45:00</th>\n",
       "      <td>4.660459e+07</td>\n",
       "      <td>7.184301e+07</td>\n",
       "      <td>1071.359129</td>\n",
       "    </tr>\n",
       "  </tbody>\n",
       "</table>\n",
       "</div>"
      ],
      "text/plain": [
       "                     Reactive Energy Net  Real Energy Net  Real Power Demand\n",
       "Date/Time                                                                   \n",
       "2015-09-09 08:45:00         4.660379e+07     7.184195e+07        1068.943649\n",
       "2015-09-09 09:00:00         4.660398e+07     7.184221e+07        1080.959360\n",
       "2015-09-09 09:15:00         4.660413e+07     7.184247e+07        1012.228044\n",
       "2015-09-09 09:30:00         4.660436e+07     7.184274e+07        1068.004918\n",
       "2015-09-09 09:45:00         4.660459e+07     7.184301e+07        1071.359129"
      ]
     },
     "execution_count": 548,
     "metadata": {},
     "output_type": "execute_result"
    }
   ],
   "source": [
    "temp.tail()"
   ]
  },
  {
   "cell_type": "code",
   "execution_count": 549,
   "metadata": {},
   "outputs": [
    {
     "data": {
      "text/plain": [
       "<matplotlib.axes._subplots.AxesSubplot at 0x18922947d68>"
      ]
     },
     "execution_count": 549,
     "metadata": {},
     "output_type": "execute_result"
    },
    {
     "data": {
      "image/png": "[encoded data removed]",
      "text/plain": [
       "<Figure size 432x288 with 1 Axes>"
      ]
     },
     "metadata": {
      "needs_background": "light"
     },
     "output_type": "display_data"
    }
   ],
   "source": [
    "temp['Real Power Demand'].plot()"
   ]
  },
  {
   "cell_type": "code",
   "execution_count": 551,
   "metadata": {},
   "outputs": [],
   "source": [
    "main = temp.sort_index()"
   ]
  },
  {
   "cell_type": "code",
   "execution_count": 568,
   "metadata": {},
   "outputs": [
    {
     "name": "stdout",
     "output_type": "stream",
     "text": [
      "<class 'pandas.core.frame.DataFrame'>\n",
      "DatetimeIndex: 56541 entries, 2015-01-01 00:15:00 to 2016-08-15 00:00:00\n",
      "Data columns (total 3 columns):\n",
      "Reactive Energy Net    56541 non-null float64\n",
      "Real Energy Net        56541 non-null float64\n",
      "Real Power Demand      56541 non-null float64\n",
      "dtypes: float64(3)\n",
      "memory usage: 4.2 MB\n"
     ]
    }
   ],
   "source": [
    "main.info()"
   ]
  },
  {
   "cell_type": "code",
   "execution_count": 554,
   "metadata": {},
   "outputs": [
    {
     "data": {
      "text/html": [
       "<div>\n",
       "<style scoped>\n",
       "    .dataframe tbody tr th:only-of-type {\n",
       "        vertical-align: middle;\n",
       "    }\n",
       "\n",
       "    .dataframe tbody tr th {\n",
       "        vertical-align: top;\n",
       "    }\n",
       "\n",
       "    .dataframe thead th {\n",
       "        text-align: right;\n",
       "    }\n",
       "</style>\n",
       "<table border=\"1\" class=\"dataframe\">\n",
       "  <thead>\n",
       "    <tr style=\"text-align: right;\">\n",
       "      <th></th>\n",
       "      <th>Reactive Energy Net</th>\n",
       "      <th>Real Energy Net</th>\n",
       "      <th>Real Power Demand</th>\n",
       "    </tr>\n",
       "    <tr>\n",
       "      <th>Date/Time</th>\n",
       "      <th></th>\n",
       "      <th></th>\n",
       "      <th></th>\n",
       "    </tr>\n",
       "  </thead>\n",
       "  <tbody>\n",
       "    <tr>\n",
       "      <th>2015-01-01 00:15:00</th>\n",
       "      <td>4.338771e+07</td>\n",
       "      <td>6.730210e+07</td>\n",
       "      <td>444.010731</td>\n",
       "    </tr>\n",
       "    <tr>\n",
       "      <th>2015-01-01 00:30:00</th>\n",
       "      <td>4.338768e+07</td>\n",
       "      <td>6.730192e+07</td>\n",
       "      <td>440.121418</td>\n",
       "    </tr>\n",
       "    <tr>\n",
       "      <th>2015-01-01 00:45:00</th>\n",
       "      <td>4.338787e+07</td>\n",
       "      <td>6.730213e+07</td>\n",
       "      <td>432.039956</td>\n",
       "    </tr>\n",
       "    <tr>\n",
       "      <th>2015-01-01 01:00:00</th>\n",
       "      <td>4.338782e+07</td>\n",
       "      <td>6.730214e+07</td>\n",
       "      <td>443.830536</td>\n",
       "    </tr>\n",
       "    <tr>\n",
       "      <th>2015-01-01 01:15:00</th>\n",
       "      <td>4.338789e+07</td>\n",
       "      <td>6.730225e+07</td>\n",
       "      <td>444.290947</td>\n",
       "    </tr>\n",
       "  </tbody>\n",
       "</table>\n",
       "</div>"
      ],
      "text/plain": [
       "                     Reactive Energy Net  Real Energy Net  Real Power Demand\n",
       "Date/Time                                                                   \n",
       "2015-01-01 00:15:00         4.338771e+07     6.730210e+07         444.010731\n",
       "2015-01-01 00:30:00         4.338768e+07     6.730192e+07         440.121418\n",
       "2015-01-01 00:45:00         4.338787e+07     6.730213e+07         432.039956\n",
       "2015-01-01 01:00:00         4.338782e+07     6.730214e+07         443.830536\n",
       "2015-01-01 01:15:00         4.338789e+07     6.730225e+07         444.290947"
      ]
     },
     "execution_count": 554,
     "metadata": {},
     "output_type": "execute_result"
    }
   ],
   "source": [
    "main.head()"
   ]
  },
  {
   "cell_type": "code",
   "execution_count": 583,
   "metadata": {},
   "outputs": [],
   "source": [
    "one_day = main[(main.index < '2015-01-02')]"
   ]
  },
  {
   "cell_type": "code",
   "execution_count": 588,
   "metadata": {},
   "outputs": [
    {
     "data": {
      "text/plain": [
       "<matplotlib.axes._subplots.AxesSubplot at 0x18903531550>"
      ]
     },
     "execution_count": 588,
     "metadata": {},
     "output_type": "execute_result"
    },
    {
     "data": {
      "image/png": "[encoded data removed]",
      "text/plain": [
       "<Figure size 432x288 with 1 Axes>"
      ]
     },
     "metadata": {
      "needs_background": "light"
     },
     "output_type": "display_data"
    }
   ],
   "source": [
    "one_day['Real Power Demand'].plot()"
   ]
  },
  {
   "cell_type": "code",
   "execution_count": 586,
   "metadata": {},
   "outputs": [
    {
     "data": {
      "text/plain": [
       "<matplotlib.axes._subplots.AxesSubplot at 0x1891dfa1f98>"
      ]
     },
     "execution_count": 586,
     "metadata": {},
     "output_type": "execute_result"
    },
    {
     "data": {
      "image/png": "[encoded data removed]",
      "text/plain": [
       "<Figure size 432x288 with 1 Axes>"
      ]
     },
     "metadata": {
      "needs_background": "light"
     },
     "output_type": "display_data"
    }
   ],
   "source": [
    "one_day['Reactive Energy Net'].plot()"
   ]
  },
  {
   "cell_type": "code",
   "execution_count": 587,
   "metadata": {},
   "outputs": [
    {
     "data": {
      "text/plain": [
       "<matplotlib.axes._subplots.AxesSubplot at 0x1890b0fc7b8>"
      ]
     },
     "execution_count": 587,
     "metadata": {},
     "output_type": "execute_result"
    },
    {
     "data": {
      "image/png": "[encoded data removed]",
      "text/plain": [
       "<Figure size 432x288 with 1 Axes>"
      ]
     },
     "metadata": {
      "needs_background": "light"
     },
     "output_type": "display_data"
    }
   ],
   "source": [
    "one_day['Real Energy Net'].plot()"
   ]
  },
  {
   "cell_type": "code",
   "execution_count": 565,
   "metadata": {},
   "outputs": [],
   "source": [
    "times = pd.to_datetime(main.index)\n",
    "gb = main.groupby([times.hour, times.minute])"
   ]
  },
  {
   "cell_type": "code",
   "execution_count": 571,
   "metadata": {},
   "outputs": [
    {
     "data": {
      "text/html": [
       "<div>\n",
       "<style scoped>\n",
       "    .dataframe tbody tr th:only-of-type {\n",
       "        vertical-align: middle;\n",
       "    }\n",
       "\n",
       "    .dataframe tbody tr th {\n",
       "        vertical-align: top;\n",
       "    }\n",
       "\n",
       "    .dataframe thead th {\n",
       "        text-align: right;\n",
       "    }\n",
       "</style>\n",
       "<table border=\"1\" class=\"dataframe\">\n",
       "  <thead>\n",
       "    <tr style=\"text-align: right;\">\n",
       "      <th></th>\n",
       "      <th>Reactive Energy Net</th>\n",
       "      <th>Real Energy Net</th>\n",
       "      <th>Real Power Demand</th>\n",
       "    </tr>\n",
       "    <tr>\n",
       "      <th>Date/Time</th>\n",
       "      <th></th>\n",
       "      <th></th>\n",
       "      <th></th>\n",
       "    </tr>\n",
       "  </thead>\n",
       "  <tbody>\n",
       "    <tr>\n",
       "      <th>2015-01-01 00:15:00</th>\n",
       "      <td>4.338771e+07</td>\n",
       "      <td>6.730210e+07</td>\n",
       "      <td>444.010731</td>\n",
       "    </tr>\n",
       "    <tr>\n",
       "      <th>2015-01-01 00:30:00</th>\n",
       "      <td>4.338768e+07</td>\n",
       "      <td>6.730192e+07</td>\n",
       "      <td>440.121418</td>\n",
       "    </tr>\n",
       "    <tr>\n",
       "      <th>2015-01-01 00:45:00</th>\n",
       "      <td>4.338787e+07</td>\n",
       "      <td>6.730213e+07</td>\n",
       "      <td>432.039956</td>\n",
       "    </tr>\n",
       "    <tr>\n",
       "      <th>2015-01-01 01:00:00</th>\n",
       "      <td>4.338782e+07</td>\n",
       "      <td>6.730214e+07</td>\n",
       "      <td>443.830536</td>\n",
       "    </tr>\n",
       "    <tr>\n",
       "      <th>2015-01-01 01:15:00</th>\n",
       "      <td>4.338789e+07</td>\n",
       "      <td>6.730225e+07</td>\n",
       "      <td>444.290947</td>\n",
       "    </tr>\n",
       "    <tr>\n",
       "      <th>2015-01-01 01:30:00</th>\n",
       "      <td>4.338819e+07</td>\n",
       "      <td>6.730275e+07</td>\n",
       "      <td>435.525169</td>\n",
       "    </tr>\n",
       "    <tr>\n",
       "      <th>2015-01-01 01:45:00</th>\n",
       "      <td>4.338816e+07</td>\n",
       "      <td>6.730256e+07</td>\n",
       "      <td>417.592242</td>\n",
       "    </tr>\n",
       "    <tr>\n",
       "      <th>2015-01-01 02:00:00</th>\n",
       "      <td>4.338811e+07</td>\n",
       "      <td>6.730258e+07</td>\n",
       "      <td>446.628095</td>\n",
       "    </tr>\n",
       "    <tr>\n",
       "      <th>2015-01-01 02:15:00</th>\n",
       "      <td>4.338831e+07</td>\n",
       "      <td>6.730278e+07</td>\n",
       "      <td>434.086969</td>\n",
       "    </tr>\n",
       "    <tr>\n",
       "      <th>2015-01-01 02:30:00</th>\n",
       "      <td>4.338835e+07</td>\n",
       "      <td>6.730307e+07</td>\n",
       "      <td>427.490827</td>\n",
       "    </tr>\n",
       "    <tr>\n",
       "      <th>2015-01-01 02:45:00</th>\n",
       "      <td>4.338842e+07</td>\n",
       "      <td>6.730318e+07</td>\n",
       "      <td>419.829068</td>\n",
       "    </tr>\n",
       "    <tr>\n",
       "      <th>2015-01-01 03:00:00</th>\n",
       "      <td>4.338839e+07</td>\n",
       "      <td>6.730300e+07</td>\n",
       "      <td>417.349028</td>\n",
       "    </tr>\n",
       "    <tr>\n",
       "      <th>2015-01-01 03:15:00</th>\n",
       "      <td>4.338856e+07</td>\n",
       "      <td>6.730340e+07</td>\n",
       "      <td>429.006764</td>\n",
       "    </tr>\n",
       "    <tr>\n",
       "      <th>2015-01-01 03:30:00</th>\n",
       "      <td>4.338853e+07</td>\n",
       "      <td>6.730322e+07</td>\n",
       "      <td>424.540414</td>\n",
       "    </tr>\n",
       "    <tr>\n",
       "      <th>2015-01-01 03:45:00</th>\n",
       "      <td>4.338860e+07</td>\n",
       "      <td>6.730332e+07</td>\n",
       "      <td>438.997088</td>\n",
       "    </tr>\n",
       "    <tr>\n",
       "      <th>2015-01-01 04:00:00</th>\n",
       "      <td>4.338868e+07</td>\n",
       "      <td>6.730343e+07</td>\n",
       "      <td>432.944795</td>\n",
       "    </tr>\n",
       "    <tr>\n",
       "      <th>2015-01-01 04:15:00</th>\n",
       "      <td>4.338885e+07</td>\n",
       "      <td>6.730385e+07</td>\n",
       "      <td>437.570045</td>\n",
       "    </tr>\n",
       "    <tr>\n",
       "      <th>2015-01-01 04:30:00</th>\n",
       "      <td>4.338895e+07</td>\n",
       "      <td>6.730375e+07</td>\n",
       "      <td>434.742688</td>\n",
       "    </tr>\n",
       "    <tr>\n",
       "      <th>2015-01-01 04:45:00</th>\n",
       "      <td>4.338902e+07</td>\n",
       "      <td>6.730386e+07</td>\n",
       "      <td>430.568682</td>\n",
       "    </tr>\n",
       "    <tr>\n",
       "      <th>2015-01-01 05:00:00</th>\n",
       "      <td>4.338897e+07</td>\n",
       "      <td>6.730387e+07</td>\n",
       "      <td>430.324279</td>\n",
       "    </tr>\n",
       "    <tr>\n",
       "      <th>2015-01-01 05:15:00</th>\n",
       "      <td>4.338916e+07</td>\n",
       "      <td>6.730410e+07</td>\n",
       "      <td>536.602435</td>\n",
       "    </tr>\n",
       "    <tr>\n",
       "      <th>2015-01-01 05:30:00</th>\n",
       "      <td>4.338911e+07</td>\n",
       "      <td>6.730418e+07</td>\n",
       "      <td>725.690976</td>\n",
       "    </tr>\n",
       "    <tr>\n",
       "      <th>2015-01-01 05:45:00</th>\n",
       "      <td>4.338941e+07</td>\n",
       "      <td>6.730512e+07</td>\n",
       "      <td>824.610106</td>\n",
       "    </tr>\n",
       "    <tr>\n",
       "      <th>2015-01-01 06:00:00</th>\n",
       "      <td>4.338926e+07</td>\n",
       "      <td>6.730458e+07</td>\n",
       "      <td>818.883060</td>\n",
       "    </tr>\n",
       "    <tr>\n",
       "      <th>2015-01-01 06:15:00</th>\n",
       "      <td>4.338946e+07</td>\n",
       "      <td>6.730491e+07</td>\n",
       "      <td>860.380737</td>\n",
       "    </tr>\n",
       "    <tr>\n",
       "      <th>2015-01-01 06:30:00</th>\n",
       "      <td>4.338955e+07</td>\n",
       "      <td>6.730567e+07</td>\n",
       "      <td>838.311016</td>\n",
       "    </tr>\n",
       "    <tr>\n",
       "      <th>2015-01-01 06:45:00</th>\n",
       "      <td>4.338962e+07</td>\n",
       "      <td>6.730533e+07</td>\n",
       "      <td>853.052421</td>\n",
       "    </tr>\n",
       "    <tr>\n",
       "      <th>2015-01-01 07:00:00</th>\n",
       "      <td>4.338957e+07</td>\n",
       "      <td>6.730542e+07</td>\n",
       "      <td>834.212622</td>\n",
       "    </tr>\n",
       "    <tr>\n",
       "      <th>2015-01-01 07:15:00</th>\n",
       "      <td>4.338965e+07</td>\n",
       "      <td>6.730564e+07</td>\n",
       "      <td>845.623679</td>\n",
       "    </tr>\n",
       "    <tr>\n",
       "      <th>2015-01-01 07:30:00</th>\n",
       "      <td>4.338986e+07</td>\n",
       "      <td>6.730595e+07</td>\n",
       "      <td>833.830891</td>\n",
       "    </tr>\n",
       "    <tr>\n",
       "      <th>...</th>\n",
       "      <td>...</td>\n",
       "      <td>...</td>\n",
       "      <td>...</td>\n",
       "    </tr>\n",
       "    <tr>\n",
       "      <th>2015-01-05 16:45:00</th>\n",
       "      <td>4.343354e+07</td>\n",
       "      <td>6.737902e+07</td>\n",
       "      <td>1050.273757</td>\n",
       "    </tr>\n",
       "    <tr>\n",
       "      <th>2015-01-05 17:00:00</th>\n",
       "      <td>4.343365e+07</td>\n",
       "      <td>6.737927e+07</td>\n",
       "      <td>1025.147496</td>\n",
       "    </tr>\n",
       "    <tr>\n",
       "      <th>2015-01-05 17:15:00</th>\n",
       "      <td>4.343393e+07</td>\n",
       "      <td>6.737975e+07</td>\n",
       "      <td>1051.196423</td>\n",
       "    </tr>\n",
       "    <tr>\n",
       "      <th>2015-01-05 17:30:00</th>\n",
       "      <td>4.343387e+07</td>\n",
       "      <td>6.737980e+07</td>\n",
       "      <td>1049.684437</td>\n",
       "    </tr>\n",
       "    <tr>\n",
       "      <th>2015-01-05 17:45:00</th>\n",
       "      <td>4.343402e+07</td>\n",
       "      <td>6.738006e+07</td>\n",
       "      <td>1042.443794</td>\n",
       "    </tr>\n",
       "    <tr>\n",
       "      <th>2015-01-05 18:00:00</th>\n",
       "      <td>4.343447e+07</td>\n",
       "      <td>6.738108e+07</td>\n",
       "      <td>793.763694</td>\n",
       "    </tr>\n",
       "    <tr>\n",
       "      <th>2015-01-05 18:15:00</th>\n",
       "      <td>4.343429e+07</td>\n",
       "      <td>6.738054e+07</td>\n",
       "      <td>958.587369</td>\n",
       "    </tr>\n",
       "    <tr>\n",
       "      <th>2015-01-05 18:30:00</th>\n",
       "      <td>4.343439e+07</td>\n",
       "      <td>6.738077e+07</td>\n",
       "      <td>942.929089</td>\n",
       "    </tr>\n",
       "    <tr>\n",
       "      <th>2015-01-05 18:45:00</th>\n",
       "      <td>4.343449e+07</td>\n",
       "      <td>6.738097e+07</td>\n",
       "      <td>778.325808</td>\n",
       "    </tr>\n",
       "    <tr>\n",
       "      <th>2015-01-05 19:00:00</th>\n",
       "      <td>4.343484e+07</td>\n",
       "      <td>6.738170e+07</td>\n",
       "      <td>695.662678</td>\n",
       "    </tr>\n",
       "    <tr>\n",
       "      <th>2015-01-05 19:15:00</th>\n",
       "      <td>4.343516e+07</td>\n",
       "      <td>6.738197e+07</td>\n",
       "      <td>748.696270</td>\n",
       "    </tr>\n",
       "    <tr>\n",
       "      <th>2015-01-05 19:30:00</th>\n",
       "      <td>4.343523e+07</td>\n",
       "      <td>6.738170e+07</td>\n",
       "      <td>717.438399</td>\n",
       "    </tr>\n",
       "    <tr>\n",
       "      <th>2015-01-05 19:45:00</th>\n",
       "      <td>4.343531e+07</td>\n",
       "      <td>6.738187e+07</td>\n",
       "      <td>733.071612</td>\n",
       "    </tr>\n",
       "    <tr>\n",
       "      <th>2015-01-05 20:00:00</th>\n",
       "      <td>4.343546e+07</td>\n",
       "      <td>6.738246e+07</td>\n",
       "      <td>674.547559</td>\n",
       "    </tr>\n",
       "    <tr>\n",
       "      <th>2015-01-05 20:15:00</th>\n",
       "      <td>4.343533e+07</td>\n",
       "      <td>6.738206e+07</td>\n",
       "      <td>718.918871</td>\n",
       "    </tr>\n",
       "    <tr>\n",
       "      <th>2015-01-05 20:30:00</th>\n",
       "      <td>4.343554e+07</td>\n",
       "      <td>6.738225e+07</td>\n",
       "      <td>798.708506</td>\n",
       "    </tr>\n",
       "    <tr>\n",
       "      <th>2015-01-05 20:45:00</th>\n",
       "      <td>4.343570e+07</td>\n",
       "      <td>6.738243e+07</td>\n",
       "      <td>702.510121</td>\n",
       "    </tr>\n",
       "    <tr>\n",
       "      <th>2015-01-05 21:00:00</th>\n",
       "      <td>4.343594e+07</td>\n",
       "      <td>6.738306e+07</td>\n",
       "      <td>761.696786</td>\n",
       "    </tr>\n",
       "    <tr>\n",
       "      <th>2015-01-05 21:15:00</th>\n",
       "      <td>4.343597e+07</td>\n",
       "      <td>6.738279e+07</td>\n",
       "      <td>703.467121</td>\n",
       "    </tr>\n",
       "    <tr>\n",
       "      <th>2015-01-05 21:30:00</th>\n",
       "      <td>4.343628e+07</td>\n",
       "      <td>6.738313e+07</td>\n",
       "      <td>690.712327</td>\n",
       "    </tr>\n",
       "    <tr>\n",
       "      <th>2015-01-05 21:45:00</th>\n",
       "      <td>4.343624e+07</td>\n",
       "      <td>6.738314e+07</td>\n",
       "      <td>719.168500</td>\n",
       "    </tr>\n",
       "    <tr>\n",
       "      <th>2015-01-05 22:00:00</th>\n",
       "      <td>4.343643e+07</td>\n",
       "      <td>6.738376e+07</td>\n",
       "      <td>697.979910</td>\n",
       "    </tr>\n",
       "    <tr>\n",
       "      <th>2015-01-05 22:15:00</th>\n",
       "      <td>4.343641e+07</td>\n",
       "      <td>6.738348e+07</td>\n",
       "      <td>689.018314</td>\n",
       "    </tr>\n",
       "    <tr>\n",
       "      <th>2015-01-05 22:30:00</th>\n",
       "      <td>4.343660e+07</td>\n",
       "      <td>6.738410e+07</td>\n",
       "      <td>668.849311</td>\n",
       "    </tr>\n",
       "    <tr>\n",
       "      <th>2015-01-05 22:45:00</th>\n",
       "      <td>4.343660e+07</td>\n",
       "      <td>6.738383e+07</td>\n",
       "      <td>683.244547</td>\n",
       "    </tr>\n",
       "    <tr>\n",
       "      <th>2015-01-05 23:00:00</th>\n",
       "      <td>4.343682e+07</td>\n",
       "      <td>6.738444e+07</td>\n",
       "      <td>684.631567</td>\n",
       "    </tr>\n",
       "    <tr>\n",
       "      <th>2015-01-05 23:15:00</th>\n",
       "      <td>4.343684e+07</td>\n",
       "      <td>6.738417e+07</td>\n",
       "      <td>695.050365</td>\n",
       "    </tr>\n",
       "    <tr>\n",
       "      <th>2015-01-05 23:30:00</th>\n",
       "      <td>4.343695e+07</td>\n",
       "      <td>6.738434e+07</td>\n",
       "      <td>697.566271</td>\n",
       "    </tr>\n",
       "    <tr>\n",
       "      <th>2015-01-05 23:45:00</th>\n",
       "      <td>4.343706e+07</td>\n",
       "      <td>6.738452e+07</td>\n",
       "      <td>707.140893</td>\n",
       "    </tr>\n",
       "    <tr>\n",
       "      <th>2015-01-06 00:00:00</th>\n",
       "      <td>4.343726e+07</td>\n",
       "      <td>6.738515e+07</td>\n",
       "      <td>693.217735</td>\n",
       "    </tr>\n",
       "  </tbody>\n",
       "</table>\n",
       "<p>480 rows × 3 columns</p>\n",
       "</div>"
      ],
      "text/plain": [
       "                     Reactive Energy Net  Real Energy Net  Real Power Demand\n",
       "Date/Time                                                                   \n",
       "2015-01-01 00:15:00         4.338771e+07     6.730210e+07         444.010731\n",
       "2015-01-01 00:30:00         4.338768e+07     6.730192e+07         440.121418\n",
       "2015-01-01 00:45:00         4.338787e+07     6.730213e+07         432.039956\n",
       "2015-01-01 01:00:00         4.338782e+07     6.730214e+07         443.830536\n",
       "2015-01-01 01:15:00         4.338789e+07     6.730225e+07         444.290947\n",
       "2015-01-01 01:30:00         4.338819e+07     6.730275e+07         435.525169\n",
       "2015-01-01 01:45:00         4.338816e+07     6.730256e+07         417.592242\n",
       "2015-01-01 02:00:00         4.338811e+07     6.730258e+07         446.628095\n",
       "2015-01-01 02:15:00         4.338831e+07     6.730278e+07         434.086969\n",
       "2015-01-01 02:30:00         4.338835e+07     6.730307e+07         427.490827\n",
       "2015-01-01 02:45:00         4.338842e+07     6.730318e+07         419.829068\n",
       "2015-01-01 03:00:00         4.338839e+07     6.730300e+07         417.349028\n",
       "2015-01-01 03:15:00         4.338856e+07     6.730340e+07         429.006764\n",
       "2015-01-01 03:30:00         4.338853e+07     6.730322e+07         424.540414\n",
       "2015-01-01 03:45:00         4.338860e+07     6.730332e+07         438.997088\n",
       "2015-01-01 04:00:00         4.338868e+07     6.730343e+07         432.944795\n",
       "2015-01-01 04:15:00         4.338885e+07     6.730385e+07         437.570045\n",
       "2015-01-01 04:30:00         4.338895e+07     6.730375e+07         434.742688\n",
       "2015-01-01 04:45:00         4.338902e+07     6.730386e+07         430.568682\n",
       "2015-01-01 05:00:00         4.338897e+07     6.730387e+07         430.324279\n",
       "2015-01-01 05:15:00         4.338916e+07     6.730410e+07         536.602435\n",
       "2015-01-01 05:30:00         4.338911e+07     6.730418e+07         725.690976\n",
       "2015-01-01 05:45:00         4.338941e+07     6.730512e+07         824.610106\n",
       "2015-01-01 06:00:00         4.338926e+07     6.730458e+07         818.883060\n",
       "2015-01-01 06:15:00         4.338946e+07     6.730491e+07         860.380737\n",
       "2015-01-01 06:30:00         4.338955e+07     6.730567e+07         838.311016\n",
       "2015-01-01 06:45:00         4.338962e+07     6.730533e+07         853.052421\n",
       "2015-01-01 07:00:00         4.338957e+07     6.730542e+07         834.212622\n",
       "2015-01-01 07:15:00         4.338965e+07     6.730564e+07         845.623679\n",
       "2015-01-01 07:30:00         4.338986e+07     6.730595e+07         833.830891\n",
       "...                                  ...              ...                ...\n",
       "2015-01-05 16:45:00         4.343354e+07     6.737902e+07        1050.273757\n",
       "2015-01-05 17:00:00         4.343365e+07     6.737927e+07        1025.147496\n",
       "2015-01-05 17:15:00         4.343393e+07     6.737975e+07        1051.196423\n",
       "2015-01-05 17:30:00         4.343387e+07     6.737980e+07        1049.684437\n",
       "2015-01-05 17:45:00         4.343402e+07     6.738006e+07        1042.443794\n",
       "2015-01-05 18:00:00         4.343447e+07     6.738108e+07         793.763694\n",
       "2015-01-05 18:15:00         4.343429e+07     6.738054e+07         958.587369\n",
       "2015-01-05 18:30:00         4.343439e+07     6.738077e+07         942.929089\n",
       "2015-01-05 18:45:00         4.343449e+07     6.738097e+07         778.325808\n",
       "2015-01-05 19:00:00         4.343484e+07     6.738170e+07         695.662678\n",
       "2015-01-05 19:15:00         4.343516e+07     6.738197e+07         748.696270\n",
       "2015-01-05 19:30:00         4.343523e+07     6.738170e+07         717.438399\n",
       "2015-01-05 19:45:00         4.343531e+07     6.738187e+07         733.071612\n",
       "2015-01-05 20:00:00         4.343546e+07     6.738246e+07         674.547559\n",
       "2015-01-05 20:15:00         4.343533e+07     6.738206e+07         718.918871\n",
       "2015-01-05 20:30:00         4.343554e+07     6.738225e+07         798.708506\n",
       "2015-01-05 20:45:00         4.343570e+07     6.738243e+07         702.510121\n",
       "2015-01-05 21:00:00         4.343594e+07     6.738306e+07         761.696786\n",
       "2015-01-05 21:15:00         4.343597e+07     6.738279e+07         703.467121\n",
       "2015-01-05 21:30:00         4.343628e+07     6.738313e+07         690.712327\n",
       "2015-01-05 21:45:00         4.343624e+07     6.738314e+07         719.168500\n",
       "2015-01-05 22:00:00         4.343643e+07     6.738376e+07         697.979910\n",
       "2015-01-05 22:15:00         4.343641e+07     6.738348e+07         689.018314\n",
       "2015-01-05 22:30:00         4.343660e+07     6.738410e+07         668.849311\n",
       "2015-01-05 22:45:00         4.343660e+07     6.738383e+07         683.244547\n",
       "2015-01-05 23:00:00         4.343682e+07     6.738444e+07         684.631567\n",
       "2015-01-05 23:15:00         4.343684e+07     6.738417e+07         695.050365\n",
       "2015-01-05 23:30:00         4.343695e+07     6.738434e+07         697.566271\n",
       "2015-01-05 23:45:00         4.343706e+07     6.738452e+07         707.140893\n",
       "2015-01-06 00:00:00         4.343726e+07     6.738515e+07         693.217735\n",
       "\n",
       "[480 rows x 3 columns]"
      ]
     },
     "execution_count": 571,
     "metadata": {},
     "output_type": "execute_result"
    }
   ],
   "source": [
    "gb.head(5)"
   ]
  },
  {
   "cell_type": "code",
   "execution_count": 572,
   "metadata": {},
   "outputs": [
    {
     "data": {
      "text/plain": [
       "<matplotlib.axes._subplots.AxesSubplot at 0x1891dff92e8>"
      ]
     },
     "execution_count": 572,
     "metadata": {},
     "output_type": "execute_result"
    },
    {
     "data": {
      "image/png": "[encoded data removed]",
      "text/plain": [
       "<Figure size 432x288 with 1 Axes>"
      ]
     },
     "metadata": {
      "needs_background": "light"
     },
     "output_type": "display_data"
    }
   ],
   "source": [
    "main['Real Energy Net'].plot()"
   ]
  },
  {
   "cell_type": "code",
   "execution_count": 592,
   "metadata": {},
   "outputs": [
    {
     "data": {
      "text/html": [
       "<div>\n",
       "<style scoped>\n",
       "    .dataframe tbody tr th:only-of-type {\n",
       "        vertical-align: middle;\n",
       "    }\n",
       "\n",
       "    .dataframe tbody tr th {\n",
       "        vertical-align: top;\n",
       "    }\n",
       "\n",
       "    .dataframe thead th {\n",
       "        text-align: right;\n",
       "    }\n",
       "</style>\n",
       "<table border=\"1\" class=\"dataframe\">\n",
       "  <thead>\n",
       "    <tr style=\"text-align: right;\">\n",
       "      <th></th>\n",
       "      <th>Reactive Energy Net</th>\n",
       "      <th>Real Energy Net</th>\n",
       "      <th>Real Power Demand</th>\n",
       "    </tr>\n",
       "    <tr>\n",
       "      <th>Date/Time</th>\n",
       "      <th></th>\n",
       "      <th></th>\n",
       "      <th></th>\n",
       "    </tr>\n",
       "  </thead>\n",
       "  <tbody>\n",
       "    <tr>\n",
       "      <th>2015-01-01 00:15:00</th>\n",
       "      <td>4.338771e+07</td>\n",
       "      <td>6.730210e+07</td>\n",
       "      <td>444.010731</td>\n",
       "    </tr>\n",
       "    <tr>\n",
       "      <th>2015-01-01 00:30:00</th>\n",
       "      <td>4.338768e+07</td>\n",
       "      <td>6.730192e+07</td>\n",
       "      <td>440.121418</td>\n",
       "    </tr>\n",
       "    <tr>\n",
       "      <th>2015-01-01 00:45:00</th>\n",
       "      <td>4.338787e+07</td>\n",
       "      <td>6.730213e+07</td>\n",
       "      <td>432.039956</td>\n",
       "    </tr>\n",
       "    <tr>\n",
       "      <th>2015-01-01 01:00:00</th>\n",
       "      <td>4.338782e+07</td>\n",
       "      <td>6.730214e+07</td>\n",
       "      <td>443.830536</td>\n",
       "    </tr>\n",
       "    <tr>\n",
       "      <th>2015-01-01 01:15:00</th>\n",
       "      <td>4.338789e+07</td>\n",
       "      <td>6.730225e+07</td>\n",
       "      <td>444.290947</td>\n",
       "    </tr>\n",
       "  </tbody>\n",
       "</table>\n",
       "</div>"
      ],
      "text/plain": [
       "                     Reactive Energy Net  Real Energy Net  Real Power Demand\n",
       "Date/Time                                                                   \n",
       "2015-01-01 00:15:00         4.338771e+07     6.730210e+07         444.010731\n",
       "2015-01-01 00:30:00         4.338768e+07     6.730192e+07         440.121418\n",
       "2015-01-01 00:45:00         4.338787e+07     6.730213e+07         432.039956\n",
       "2015-01-01 01:00:00         4.338782e+07     6.730214e+07         443.830536\n",
       "2015-01-01 01:15:00         4.338789e+07     6.730225e+07         444.290947"
      ]
     },
     "execution_count": 592,
     "metadata": {},
     "output_type": "execute_result"
    }
   ],
   "source": [
    "main.head()"
   ]
  },
  {
   "cell_type": "code",
   "execution_count": 593,
   "metadata": {},
   "outputs": [],
   "source": [
    "# Real power / (real power + reactive power)"
   ]
  },
  {
   "cell_type": "code",
   "execution_count": 597,
   "metadata": {},
   "outputs": [
    {
     "data": {
      "text/plain": [
       "0.608024368094802"
      ]
     },
     "execution_count": 597,
     "metadata": {},
     "output_type": "execute_result"
    }
   ],
   "source": [
    "(main['Real Energy Net'].iloc[0] / (main['Reactive Energy Net'].iloc[0] + main['Real Energy Net'].iloc[0]))"
   ]
  },
  {
   "cell_type": "code",
   "execution_count": 598,
   "metadata": {},
   "outputs": [],
   "source": [
    "main['Efficiency'] = (main['Real Energy Net'] / (main['Reactive Energy Net'] + main['Real Energy Net']))"
   ]
  },
  {
   "cell_type": "code",
   "execution_count": 601,
   "metadata": {},
   "outputs": [
    {
     "data": {
      "text/html": [
       "<div>\n",
       "<style scoped>\n",
       "    .dataframe tbody tr th:only-of-type {\n",
       "        vertical-align: middle;\n",
       "    }\n",
       "\n",
       "    .dataframe tbody tr th {\n",
       "        vertical-align: top;\n",
       "    }\n",
       "\n",
       "    .dataframe thead th {\n",
       "        text-align: right;\n",
       "    }\n",
       "</style>\n",
       "<table border=\"1\" class=\"dataframe\">\n",
       "  <thead>\n",
       "    <tr style=\"text-align: right;\">\n",
       "      <th></th>\n",
       "      <th>Reactive Energy Net</th>\n",
       "      <th>Real Energy Net</th>\n",
       "      <th>Real Power Demand</th>\n",
       "      <th>Efficiency</th>\n",
       "    </tr>\n",
       "    <tr>\n",
       "      <th>Date/Time</th>\n",
       "      <th></th>\n",
       "      <th></th>\n",
       "      <th></th>\n",
       "      <th></th>\n",
       "    </tr>\n",
       "  </thead>\n",
       "  <tbody>\n",
       "    <tr>\n",
       "      <th>2016-08-14 23:00:00</th>\n",
       "      <td>47497453.94</td>\n",
       "      <td>76896917.79</td>\n",
       "      <td>612.769357</td>\n",
       "      <td>0.618170</td>\n",
       "    </tr>\n",
       "    <tr>\n",
       "      <th>2016-08-14 23:15:00</th>\n",
       "      <td>47497527.25</td>\n",
       "      <td>76897057.07</td>\n",
       "      <td>629.433936</td>\n",
       "      <td>0.618170</td>\n",
       "    </tr>\n",
       "    <tr>\n",
       "      <th>2016-08-14 23:30:00</th>\n",
       "      <td>47497601.83</td>\n",
       "      <td>76897202.85</td>\n",
       "      <td>552.827323</td>\n",
       "      <td>0.618171</td>\n",
       "    </tr>\n",
       "    <tr>\n",
       "      <th>2016-08-14 23:45:00</th>\n",
       "      <td>47497674.55</td>\n",
       "      <td>76897348.80</td>\n",
       "      <td>591.074692</td>\n",
       "      <td>0.618171</td>\n",
       "    </tr>\n",
       "    <tr>\n",
       "      <th>2016-08-15 00:00:00</th>\n",
       "      <td>47497740.01</td>\n",
       "      <td>76897486.16</td>\n",
       "      <td>578.725160</td>\n",
       "      <td>0.618171</td>\n",
       "    </tr>\n",
       "  </tbody>\n",
       "</table>\n",
       "</div>"
      ],
      "text/plain": [
       "                     Reactive Energy Net  Real Energy Net  Real Power Demand  \\\n",
       "Date/Time                                                                      \n",
       "2016-08-14 23:00:00          47497453.94      76896917.79         612.769357   \n",
       "2016-08-14 23:15:00          47497527.25      76897057.07         629.433936   \n",
       "2016-08-14 23:30:00          47497601.83      76897202.85         552.827323   \n",
       "2016-08-14 23:45:00          47497674.55      76897348.80         591.074692   \n",
       "2016-08-15 00:00:00          47497740.01      76897486.16         578.725160   \n",
       "\n",
       "                     Efficiency  \n",
       "Date/Time                        \n",
       "2016-08-14 23:00:00    0.618170  \n",
       "2016-08-14 23:15:00    0.618170  \n",
       "2016-08-14 23:30:00    0.618171  \n",
       "2016-08-14 23:45:00    0.618171  \n",
       "2016-08-15 00:00:00    0.618171  "
      ]
     },
     "execution_count": 601,
     "metadata": {},
     "output_type": "execute_result"
    }
   ],
   "source": [
    "main.tail()"
   ]
  },
  {
   "cell_type": "code",
   "execution_count": 605,
   "metadata": {},
   "outputs": [
    {
     "data": {
      "text/plain": [
       "<matplotlib.axes._subplots.AxesSubplot at 0x18903123940>"
      ]
     },
     "execution_count": 605,
     "metadata": {},
     "output_type": "execute_result"
    },
    {
     "data": {
      "image/png": "[encoded data removed]",
      "text/plain": [
       "<Figure size 432x288 with 1 Axes>"
      ]
     },
     "metadata": {
      "needs_background": "light"
     },
     "output_type": "display_data"
    }
   ],
   "source": [
    "main['Efficiency'].plot()"
   ]
  },
  {
   "cell_type": "code",
   "execution_count": 606,
   "metadata": {},
   "outputs": [],
   "source": [
    "main.to_csv('main_df.csv')"
   ]
  }
 ],
 "metadata": {
  "kernelspec": {
   "display_name": "Python 3",
   "language": "python",
   "name": "python3"
  },
  "language_info": {
   "codemirror_mode": {
    "name": "ipython",
    "version": 3
   },
   "file_extension": ".py",
   "mimetype": "text/x-python",
   "name": "python",
   "nbconvert_exporter": "python",
   "pygments_lexer": "ipython3",
   "version": "3.7.3"
  }
 },
 "nbformat": 4,
 "nbformat_minor": 2
}
